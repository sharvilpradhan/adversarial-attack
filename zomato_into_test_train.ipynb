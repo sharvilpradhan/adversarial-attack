{
 "cells": [
  {
   "cell_type": "code",
   "execution_count": null,
   "metadata": {},
   "outputs": [],
   "source": [
    "# Importing stuff\n",
    "import numpy as np\n",
    "import pandas as pd\n",
    "import os"
   ]
  },
  {
   "cell_type": "code",
   "execution_count": null,
   "metadata": {},
   "outputs": [],
   "source": [
    "df = pd.read_csv('processedZomato_fullFinal2.csv', delimiter = ',', encoding = \"utf-8\")"
   ]
  },
  {
   "cell_type": "code",
   "execution_count": null,
   "metadata": {},
   "outputs": [],
   "source": [
    "# Testing it out\n",
    "df.head(10)"
   ]
  },
  {
   "cell_type": "code",
   "execution_count": null,
   "metadata": {},
   "outputs": [],
   "source": [
    "# How many postive and negative reviews\n",
    "pos = []\n",
    "neg = []\n",
    "# Some of rating 3 are pos and some are neg. Creating a new section to change later if needed.\n",
    "# amb stands for ambigious. Because as a collection it is ambigious.\n",
    "amb = []\n",
    "for index, row in df.iterrows():\n",
    "# This was in the except part of the above commented statements\n",
    "    rat = float(row[\"Rating\"])\n",
    "    rev = row[\"Review\"]\n",
    "#     negative review\n",
    "    if rat < 3:\n",
    "        neg.append([rat, rev])\n",
    "#     ambigious review\n",
    "    elif rat == 3:\n",
    "        amb.append([rat, rev])\n",
    "#     positive review\n",
    "    else:\n",
    "        pos.append([rat, rev])\n",
    "#     if index == 84876:\n",
    "#         print(row[\"Review\"])\n",
    "# Checking things out\n",
    "# print(neg[0:3])\n",
    "# print(pos[0:3])"
   ]
  },
  {
   "cell_type": "code",
   "execution_count": null,
   "metadata": {},
   "outputs": [],
   "source": [
    "# The number of positive(>=3) and negative(<3) reviews\n",
    "print(\"The number of positive reviews are: \"+str(len(pos)))\n",
    "print(\"The number of negative review are: \"+str(len(neg)))\n",
    "print(\"The number of ambigious review are: \"+str(len(amb)))"
   ]
  },
  {
   "cell_type": "code",
   "execution_count": null,
   "metadata": {},
   "outputs": [],
   "source": [
    "# Just printing one to check\n",
    "print(pos[0])\n",
    "print(neg[1][1])\n",
    "print(amb[2])"
   ]
  },
  {
   "cell_type": "code",
   "execution_count": null,
   "metadata": {},
   "outputs": [],
   "source": [
    "#Creating a directory to save all the reviews in different text files\n",
    "#the name of the directory\n",
    "dirName = \"Zomato_extracted\"\n",
    "dirPath = \"C:\\\\My Stuff\\\\NCSU\\\\Classes\\\\ALDA - 522\\\\Project\\\\\"\n",
    "dirTotalPath = dirPath + dirName\n",
    "#creating the directory\n",
    "try:\n",
    "    os.mkdir(dirTotalPath)\n",
    "    print(\"Directory Created\")\n",
    "except FileExistsError:\n",
    "    print(\"Directory Already Exists\")"
   ]
  },
  {
   "cell_type": "code",
   "execution_count": null,
   "metadata": {},
   "outputs": [],
   "source": [
    "testdirName = \"test\"\n",
    "traindirName = \"train\"\n",
    "dirTotalPathTest = dirTotalPath+ \"\\\\\" + testdirName\n",
    "dirTotalPathTrain = dirTotalPath+ \"\\\\\" + traindirName\n",
    "try:\n",
    "    os.mkdir(dirTotalPathTest)\n",
    "    print(\"Test Dir created\")\n",
    "except FileExistsError:\n",
    "    print(\"Test dir already there\")\n",
    "\n",
    "try:\n",
    "    os.mkdir(dirTotalPathTrain)\n",
    "    print(\"Train Dir created\")\n",
    "except FileExistsError:\n",
    "    print(\"Train dir already there\")"
   ]
  },
  {
   "cell_type": "code",
   "execution_count": null,
   "metadata": {},
   "outputs": [],
   "source": [
    "# Creating the extra directories for further classification\n",
    "# creating negative review directory\n",
    "negDirPathTest = dirTotalPathTest + \"\\\\\" + \"neg\"\n",
    "negDirPathTrain = dirTotalPathTrain + \"\\\\\" + \"neg\"\n",
    "\n",
    "try:\n",
    "    os.mkdir(negDirPathTest)\n",
    "    print(\"neg directory is created\")\n",
    "except FileExistsError:\n",
    "    print(\"neg directory is alredy there\")\n",
    "\n",
    "try:\n",
    "    os.mkdir(negDirPathTrain)\n",
    "    print(\"neg directory is created\")\n",
    "except FileExistsError:\n",
    "    print(\"neg directory is alredy there\")\n",
    "    \n",
    "# creating positive review directory\n",
    "posDirPathTest = dirTotalPathTest + \"\\\\\" + \"pos\"\n",
    "posDirPathTrain = dirTotalPathTrain + \"\\\\\" + \"pos\"\n",
    "try:\n",
    "    os.mkdir(posDirPathTest)\n",
    "    print(\"pos directory is created\")\n",
    "except FileExistsError:\n",
    "    print(\"pos directory is already there\")\n",
    "    \n",
    "try:\n",
    "    os.mkdir(posDirPathTrain)\n",
    "    print(\"pos directory is created\")\n",
    "except FileExistsError:\n",
    "    print(\"pos directory is already there\")"
   ]
  },
  {
   "cell_type": "code",
   "execution_count": null,
   "metadata": {},
   "outputs": [],
   "source": [
    "# Considering \"Rating = 3\" to be positive\n",
    "pos = pos + amb\n",
    "# # Considering \"Rating = 3\" to be negative\n",
    "# neg = neg + amb"
   ]
  },
  {
   "cell_type": "code",
   "execution_count": null,
   "metadata": {},
   "outputs": [],
   "source": [
    "#saving the reviews in the text files - NEG\n",
    "# j = 0 #index\n",
    "trainneg = neg[:int(len(neg)*0.2)]\n",
    "testneg = neg[int(len(neg)*0.2):]"
   ]
  },
  {
   "cell_type": "code",
   "execution_count": null,
   "metadata": {},
   "outputs": [],
   "source": [
    "print(trainneg[0])\n",
    "print(testpos[0])"
   ]
  },
  {
   "cell_type": "code",
   "execution_count": null,
   "metadata": {},
   "outputs": [],
   "source": [
    "for i in range(len(testneg)):#saving the neg reviews in a file\n",
    "#     this is following the format of the imdb file naming i.e. uniqueID_rating.txt\n",
    "    textFilePath = negDirPathTest + \"\\\\\" + str(i) + \"_\" + str(neg[i][0]) + \".txt\"\n",
    "    textFile = open(textFilePath,\"w\")\n",
    "#     print(neg[i][1])\n",
    "    try:\n",
    "        textFile.write(testneg[i][1])\n",
    "#         ATTENTION! - at least one ixdex data is lost here\n",
    "    except UnicodeEncodeError:\n",
    "        continue\n",
    "    textFile.close()\n",
    "#     j = j + 1 #incrementing the index\n"
   ]
  },
  {
   "cell_type": "code",
   "execution_count": null,
   "metadata": {},
   "outputs": [],
   "source": [
    "for i in range(len(trainneg)):#saving the neg reviews in a file\n",
    "#     this is following the format of the imdb file naming i.e. uniqueID_rating.txt\n",
    "    textFilePath = negDirPathTrain + \"\\\\\" + str(i) + \"_\" + str(neg[i][0]) + \".txt\"\n",
    "    textFile = open(textFilePath,\"w\")\n",
    "#     print(neg[i][1])\n",
    "    try:\n",
    "        textFile.write(trainneg[i][1])\n",
    "#         ATTENTION! - at least one ixdex data is lost here\n",
    "    except UnicodeEncodeError:\n",
    "        continue\n",
    "    textFile.close()\n",
    "#     j = j + 1 #incrementing the index"
   ]
  },
  {
   "cell_type": "code",
   "execution_count": null,
   "metadata": {},
   "outputs": [],
   "source": [
    "#saving the reviews in the text files - POS\n",
    "# j = 1 #index\n",
    "trainpos = pos[:int(len(pos)*0.2)]\n",
    "testpos = pos[int(len(pos)*0.2):]\n"
   ]
  },
  {
   "cell_type": "code",
   "execution_count": null,
   "metadata": {},
   "outputs": [],
   "source": [
    "print(trainpos[0])\n",
    "print(testpos[0])"
   ]
  },
  {
   "cell_type": "code",
   "execution_count": null,
   "metadata": {},
   "outputs": [],
   "source": [
    "\n",
    "for i in range(len(trainpos)):#saving the pos reviews in a file\n",
    "    textFilePath = posDirPathTrain + \"\\\\\" + str(i) + \"_\" + str(pos[i][0]) + \".txt\"\n",
    "    textFile = open(textFilePath,\"w\")\n",
    "#     print(pos[i][1])\n",
    "#     ATTENTION! - AT ;EAS\n",
    "    try:\n",
    "        textFile.write(trainpos[i][1])\n",
    "    except UnicodeEncodeError:\n",
    "        continue\n",
    "    textFile.close()\n",
    "#     j = j + 1 #incrementing the index\n"
   ]
  },
  {
   "cell_type": "code",
   "execution_count": null,
   "metadata": {},
   "outputs": [],
   "source": [
    "for i in range(len(testpos)):#saving the pos reviews in a file\n",
    "    textFilePath = posDirPathTest + \"\\\\\" + str(i) + \"_\" + str(pos[i][0]) + \".txt\"\n",
    "    textFile = open(textFilePath,\"w\")\n",
    "#     print(pos[i][1])\n",
    "#     ATTENTION! - AT ;EAS\n",
    "    try:\n",
    "        textFile.write(testpos[i][1])\n",
    "    except UnicodeEncodeError:\n",
    "        continue\n",
    "    textFile.close()\n",
    "#     j = j + 1 #incrementing the index"
   ]
  },
  {
   "cell_type": "code",
   "execution_count": null,
   "metadata": {},
   "outputs": [],
   "source": [
    "# Testing block\n",
    "for index, row in df.iterrows():\n",
    "    if index==3:\n",
    "        a = [row[\"Rating\"],row[\"Review\"]]\n",
    "        break\n",
    "        \n",
    "print(a)"
   ]
  },
  {
   "cell_type": "code",
   "execution_count": null,
   "metadata": {},
   "outputs": [],
   "source": [
    "# Taking the testing data into a csv file\n",
    "import csv\n",
    "tottest = testpos + testneg\n",
    "with open('processedZomato_fullFinaltest.csv','w',newline = '', encoding = 'utf-8') as csvFile:\n",
    "    writer = csv.writer(csvFile)\n",
    "    writer.writerows(tottest)\n",
    "csvFile.close()"
   ]
  },
  {
   "cell_type": "code",
   "execution_count": null,
   "metadata": {},
   "outputs": [],
   "source": []
  }
 ],
 "metadata": {
  "kernelspec": {
   "display_name": "Python 3",
   "language": "python",
   "name": "python3"
  },
  "language_info": {
   "codemirror_mode": {
    "name": "ipython",
    "version": 3
   },
   "file_extension": ".py",
   "mimetype": "text/x-python",
   "name": "python",
   "nbconvert_exporter": "python",
   "pygments_lexer": "ipython3",
   "version": "3.7.4"
  }
 },
 "nbformat": 4,
 "nbformat_minor": 2
}
