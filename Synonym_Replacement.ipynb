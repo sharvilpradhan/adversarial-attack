{
  "nbformat": 4,
  "nbformat_minor": 0,
  "metadata": {
    "kernelspec": {
      "name": "python3",
      "display_name": "Python 3"
    },
    "language_info": {
      "codemirror_mode": {
        "name": "ipython",
        "version": 3
      },
      "file_extension": ".py",
      "mimetype": "text/x-python",
      "name": "python",
      "nbconvert_exporter": "python",
      "pygments_lexer": "ipython3",
      "version": "3.7.5"
    },
    "colab": {
      "name": "Synonym_Replacement_Finalish.ipynb",
      "provenance": [],
      "collapsed_sections": []
    },
    "accelerator": "GPU"
  },
  "cells": [
    {
      "cell_type": "code",
      "metadata": {
        "id": "otIMoP-idCRl",
        "colab_type": "code",
        "colab": {}
      },
      "source": [
        "import numpy as np\n",
        "import pandas as pd\n",
        "import pickle\n",
        "import re"
      ],
      "execution_count": 0,
      "outputs": []
    },
    {
      "cell_type": "code",
      "metadata": {
        "id": "62RTmOWMdCR2",
        "colab_type": "code",
        "colab": {}
      },
      "source": [
        " with open(\"rmap.pkl\", \"rb\") as fp:\n",
        "        df = pickle.load(fp)"
      ],
      "execution_count": 0,
      "outputs": []
    },
    {
      "cell_type": "code",
      "metadata": {
        "id": "Y3xAK7EcdCSM",
        "colab_type": "code",
        "colab": {}
      },
      "source": [
        "\n",
        "with open(\"/content/rmapIMDB.pkl\", \"rb\") as fp:\n",
        "        dfm = pickle.load(fp)\n",
        "        \n",
        "with open(\"/content/imdb_tagging_test.pkl\", \"rb\") as fp:\n",
        "        df = pickle.load(fp)\n",
        "\n"
      ],
      "execution_count": 0,
      "outputs": []
    },
    {
      "cell_type": "code",
      "metadata": {
        "id": "gf5TAqqNIUYL",
        "colab_type": "code",
        "colab": {}
      },
      "source": [
        "with open(\"/content/rmapZomatoVader.pkl\", \"rb\") as fp:\n",
        "        dfm = pickle.load(fp)\n",
        "\n",
        "df = pd.read_csv('/content/zomatovaderlist.csv')"
      ],
      "execution_count": 0,
      "outputs": []
    },
    {
      "cell_type": "code",
      "metadata": {
        "id": "b0UcVyxnu8Z_",
        "colab_type": "code",
        "outputId": "0004faf9-ee5d-4369-d765-57371a1eb67f",
        "colab": {
          "base_uri": "https://localhost:8080/",
          "height": 35
        }
      },
      "source": [
        "df.columns"
      ],
      "execution_count": 0,
      "outputs": [
        {
          "output_type": "execute_result",
          "data": {
            "text/plain": [
              "Index(['Unnamed: 0', 'Unnamed: 0.1', 'Rating', 'Review', 'word_list', 'Label'], dtype='object')"
            ]
          },
          "metadata": {
            "tags": []
          },
          "execution_count": 75
        }
      ]
    },
    {
      "cell_type": "code",
      "metadata": {
        "id": "q4biqWOuul8h",
        "colab_type": "code",
        "outputId": "cfafe1ff-e233-4a4b-e126-d05a28398654",
        "colab": {
          "base_uri": "https://localhost:8080/",
          "height": 35
        }
      },
      "source": [
        "#df = pd.read_csv('/content/zomatorandomlist.csv')\n",
        "rev = df['Review']\n",
        "wl = df['word_list']\n",
        "rat = df['Rating']\n",
        "print(type(wl))"
      ],
      "execution_count": 0,
      "outputs": [
        {
          "output_type": "stream",
          "text": [
            "<class 'pandas.core.series.Series'>\n"
          ],
          "name": "stdout"
        }
      ]
    },
    {
      "cell_type": "code",
      "metadata": {
        "id": "6s92avtYvNni",
        "colab_type": "code",
        "outputId": "2f26e26d-875a-42d7-9d16-db2cbe3b3bb7",
        "colab": {
          "base_uri": "https://localhost:8080/",
          "height": 52
        }
      },
      "source": [
        "print(df.shape[0])\n",
        "print(dfm.size)"
      ],
      "execution_count": 0,
      "outputs": [
        {
          "output_type": "stream",
          "text": [
            "41287\n",
            "41287\n"
          ],
          "name": "stdout"
        }
      ]
    },
    {
      "cell_type": "code",
      "metadata": {
        "id": "2ZqZ7nshaLvR",
        "colab_type": "code",
        "colab": {}
      },
      "source": [
        "for i in range(0,df.shape[0]):\n",
        "  if rat.loc[i]<3:\n",
        "    df.loc[i,'Label']='neg'\n",
        "  else:\n",
        "    df.loc[i,'Label']='pos'\n",
        "\n"
      ],
      "execution_count": 0,
      "outputs": []
    },
    {
      "cell_type": "code",
      "metadata": {
        "id": "kqUU5v8Sbfhl",
        "colab_type": "code",
        "colab": {}
      },
      "source": [
        "df.to_csv('/content/zomatorandomlist.csv')"
      ],
      "execution_count": 0,
      "outputs": []
    },
    {
      "cell_type": "code",
      "metadata": {
        "id": "5vD3n650j27x",
        "colab_type": "code",
        "colab": {}
      },
      "source": [
        "with open(\"/content/rmapZomatoRandom.pkl\", \"rb\") as fp:\n",
        "        dfm = pickle.load(fp)"
      ],
      "execution_count": 0,
      "outputs": []
    },
    {
      "cell_type": "code",
      "metadata": {
        "id": "JoaBVte_bscf",
        "colab_type": "code",
        "outputId": "30ccdf34-9db4-43b9-a2c4-4bed664851f9",
        "colab": {
          "base_uri": "https://localhost:8080/",
          "height": 35
        }
      },
      "source": [
        "df.columns\n",
        "dfm.size"
      ],
      "execution_count": 0,
      "outputs": [
        {
          "output_type": "execute_result",
          "data": {
            "text/plain": [
              "41287"
            ]
          },
          "metadata": {
            "tags": []
          },
          "execution_count": 78
        }
      ]
    },
    {
      "cell_type": "code",
      "metadata": {
        "id": "unBo4CFIuk4s",
        "colab_type": "code",
        "colab": {}
      },
      "source": [
        "j=0\n",
        "for i in range(0,dfm.size):\n",
        "    a = dfm.loc[i]\n",
        "    s = rev.loc[j]\n",
        "    w = wl.loc[j]\n",
        "    if w=='[]':\n",
        "      df.loc[j,'mod_review']=s\n",
        "\n",
        "    else:\n",
        "      for k in a.keys():\n",
        "        syn = a.get(k)\n",
        "        s = re.sub(r'\\b%s\\b'%k,syn,s)\n",
        "        df.loc[j,'mod_review']=s\n",
        "    \n",
        "    j=j+1\n",
        "    \n",
        "\n",
        "with open('/content/zomatovader_modreviews.pkl', 'wb') as f:\n",
        "  pickle.dump(df, f)"
      ],
      "execution_count": 0,
      "outputs": []
    },
    {
      "cell_type": "code",
      "metadata": {
        "id": "jNusemnzmncq",
        "colab_type": "code",
        "colab": {}
      },
      "source": [
        "with open(\"/content/zomatovader_modreviews.pkl\", \"rb\") as fp:\n",
        "        df = pickle.load(fp)\n",
        "\n",
        "\n",
        "df.to_csv('/zomatovader_modreviews.csv')"
      ],
      "execution_count": 0,
      "outputs": []
    },
    {
      "cell_type": "code",
      "metadata": {
        "id": "U2aXBfnwAbps",
        "colab_type": "code",
        "outputId": "acb975c8-eb70-4824-b068-5891ec63e8c0",
        "colab": {
          "base_uri": "https://localhost:8080/",
          "height": 176
        }
      },
      "source": [
        "a = dfm.loc[2]\n",
        "s = rev.loc[2]\n",
        "for k in a.keys():\n",
        "  syn = a.get(k)\n",
        "  s = re.sub(r'\\b%s\\b'%k,syn,s)\n",
        "  print(k,syn)\n",
        "  print(s)\n",
        "  df.loc[j,'mod_review']=s"
      ],
      "execution_count": 0,
      "outputs": [
        {
          "output_type": "stream",
          "text": [
            "'sympathetic 'sympathetic\n",
            "First of all I hate those moronic rappers, who could'nt act if they had a gun pressed against their foreheads. All they do is curse and shoot each other and acting like cliché'e version of gangsters.<br /><br />The movie doesn't take more than five minutes to explain what is going on before we're already at the warehouse There is not a single sympathetic character in this movie, except for the homeless guy, who is also the only one with half a brain.<br /><br />Bill Paxton and William Sadler are both hill billies and Sadlers character is just as much a villain as the gangsters. I did'nt like him right from the start.<br /><br />The movie is filled with pointless violence and Walter Hills specialty: people falling through windows with glass flying everywhere. There is pretty much no plot and it is a big problem when you root for no-one. Everybody dies, except from Paxton and the homeless guy and everybody get what they deserve.<br /><br />The only two black people that can act is the homeless guy and the junkie but they're actors by profession, not annoying ugly brain dead rappers.<br /><br />Stay away from this crap and watch 48 hours 1 and 2 instead. At lest they have characters you care about, a sense of humor and nothing but real actors in the cast.\n",
            "take call_for\n",
            "First of all I hate those moronic rappers, who could'nt act if they had a gun pressed against their foreheads. All they do is curse and shoot each other and acting like cliché'e version of gangsters.<br /><br />The movie doesn't call_for more than five minutes to explain what is going on before we're already at the warehouse There is not a single sympathetic character in this movie, except for the homeless guy, who is also the only one with half a brain.<br /><br />Bill Paxton and William Sadler are both hill billies and Sadlers character is just as much a villain as the gangsters. I did'nt like him right from the start.<br /><br />The movie is filled with pointless violence and Walter Hills specialty: people falling through windows with glass flying everywhere. There is pretty much no plot and it is a big problem when you root for no-one. Everybody dies, except from Paxton and the homeless guy and everybody get what they deserve.<br /><br />The only two black people that can act is the homeless guy and the junkie but they're actors by profession, not annoying ugly brain dead rappers.<br /><br />Stay away from this crap and watch 48 hours 1 and 2 instead. At lest they have characters you care about, a sense of humor and nothing but real actors in the cast.\n",
            "brain encephalon\n",
            "First of all I hate those moronic rappers, who could'nt act if they had a gun pressed against their foreheads. All they do is curse and shoot each other and acting like cliché'e version of gangsters.<br /><br />The movie doesn't call_for more than five minutes to explain what is going on before we're already at the warehouse There is not a single sympathetic character in this movie, except for the homeless guy, who is also the only one with half a encephalon.<br /><br />Bill Paxton and William Sadler are both hill billies and Sadlers character is just as much a villain as the gangsters. I did'nt like him right from the start.<br /><br />The movie is filled with pointless violence and Walter Hills specialty: people falling through windows with glass flying everywhere. There is pretty much no plot and it is a big problem when you root for no-one. Everybody dies, except from Paxton and the homeless guy and everybody get what they deserve.<br /><br />The only two black people that can act is the homeless guy and the junkie but they're actors by profession, not annoying ugly encephalon dead rappers.<br /><br />Stay away from this crap and watch 48 hours 1 and 2 instead. At lest they have characters you care about, a sense of humor and nothing but real actors in the cast.\n",
            "act act_as\n",
            "First of all I hate those moronic rappers, who could'nt act_as if they had a gun pressed against their foreheads. All they do is curse and shoot each other and acting like cliché'e version of gangsters.<br /><br />The movie doesn't call_for more than five minutes to explain what is going on before we're already at the warehouse There is not a single sympathetic character in this movie, except for the homeless guy, who is also the only one with half a encephalon.<br /><br />Bill Paxton and William Sadler are both hill billies and Sadlers character is just as much a villain as the gangsters. I did'nt like him right from the start.<br /><br />The movie is filled with pointless violence and Walter Hills specialty: people falling through windows with glass flying everywhere. There is pretty much no plot and it is a big problem when you root for no-one. Everybody dies, except from Paxton and the homeless guy and everybody get what they deserve.<br /><br />The only two black people that can act_as is the homeless guy and the junkie but they're actors by profession, not annoying ugly encephalon dead rappers.<br /><br />Stay away from this crap and watch 48 hours 1 and 2 instead. At lest they have characters you care about, a sense of humor and nothing but real actors in the cast.\n"
          ],
          "name": "stdout"
        }
      ]
    },
    {
      "cell_type": "code",
      "metadata": {
        "id": "UMjBaUnnxcHo",
        "colab_type": "code",
        "outputId": "a22e8cbb-f6d0-43a8-c86e-3bd72a7afc25",
        "colab": {
          "base_uri": "https://localhost:8080/",
          "height": 87
        }
      },
      "source": [
        "modr = df['mod_review']\n",
        "e =9999\n",
        "print(rev.loc[e])\n",
        "print(wl.loc[e])\n",
        "print(dfm.loc[e])\n",
        "print(modr.loc[e])"
      ],
      "execution_count": 0,
      "outputs": [
        {
          "output_type": "stream",
          "text": [
            "place family friends menu inspired barbeque nation taste good staff helpful one suggestion management restaurant name board little difficult identify please try place place people identify easily\n",
            "['little', 'identify', 'little', 'helpful', 'little', 'please', 'good', 'please', 'difficult', 'helpful']\n",
            "{\"'little\": \"'little\", 'identify': 'key_out', 'little': 'footling', 'helpful': 'helpful', 'please': 'delight', 'good': 'in_effect', 'difficult': 'unmanageable', \"helpful'\": \"helpful'\"}\n",
            "place family friends menu inspired barbeque nation taste in_effect staff helpful one suggestion management restaurant name board footling unmanageable key_out delight try place place people key_out easily\n"
          ],
          "name": "stdout"
        }
      ]
    },
    {
      "cell_type": "code",
      "metadata": {
        "id": "_M4phCIHx_GC",
        "colab_type": "code",
        "outputId": "6c9b3739-048f-4f3d-94ac-4959b05edc0a",
        "colab": {
          "base_uri": "https://localhost:8080/",
          "height": 72
        }
      },
      "source": [
        "dfm.to_csv('/content/mapzomato.csv')"
      ],
      "execution_count": 0,
      "outputs": [
        {
          "output_type": "stream",
          "text": [
            "/usr/local/lib/python3.6/dist-packages/ipykernel_launcher.py:1: FutureWarning: The signature of `Series.to_csv` was aligned to that of `DataFrame.to_csv`, and argument 'header' will change its default value from False to True: please pass an explicit value to suppress this warning.\n",
            "  \"\"\"Entry point for launching an IPython kernel.\n"
          ],
          "name": "stderr"
        }
      ]
    }
  ]
}